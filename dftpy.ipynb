{
  "cells": [
    {
      "cell_type": "markdown",
      "metadata": {
        "id": "view-in-github",
        "colab_type": "text"
      },
      "source": [
        "<a href=\"https://colab.research.google.com/github/pavanell/test/blob/main/dftpy.ipynb\" target=\"_parent\"><img src=\"https://colab.research.google.com/assets/colab-badge.svg\" alt=\"Open In Colab\"/></a>"
      ]
    },
    {
      "cell_type": "markdown",
      "metadata": {
        "id": "9Wl0hDWnE19E"
      },
      "source": [
        "# Optimization"
      ]
    },
    {
      "cell_type": "markdown",
      "source": [
        "## Install DFTpy and download a pseudopotential file"
      ],
      "metadata": {
        "id": "wJ6u6TLIPIYz"
      }
    },
    {
      "cell_type": "code",
      "source": [
        "!pip install git+https://gitlab.com/pavanello-research-group/dftpy.git@dev\n",
        "!wget https://raw.githubusercontent.com/EACcodes/local-pseudopotentials/master/BLPS/LDA/reci/al.lda.recpot"
      ],
      "metadata": {
        "id": "qYWQ9viiE19J"
      },
      "execution_count": null,
      "outputs": []
    },
    {
      "cell_type": "markdown",
      "metadata": {
        "id": "nEnPFzPQE19J"
      },
      "source": [
        "## import some modules"
      ]
    },
    {
      "cell_type": "code",
      "execution_count": null,
      "metadata": {
        "id": "fglyTraDE19K"
      },
      "outputs": [],
      "source": [
        "from dftpy.ions import Ions\n",
        "from dftpy.field import DirectField\n",
        "from dftpy.grid import DirectGrid\n",
        "from dftpy.functional import LocalPseudo, Functional, TotalFunctional\n",
        "from dftpy.formats import io\n",
        "from dftpy.math_utils import ecut2nr\n",
        "from dftpy.time_data import TimeData\n",
        "from dftpy.optimization import Optimization\n",
        "from dftpy.mpi import sprint"
      ]
    },
    {
      "cell_type": "markdown",
      "metadata": {
        "id": "cerZ4qleE19L"
      },
      "source": [
        "## pseudopotential file"
      ]
    },
    {
      "cell_type": "code",
      "execution_count": null,
      "metadata": {
        "id": "Pdtf_KJ-E19L"
      },
      "outputs": [],
      "source": [
        "\n",
        "file1='al.lda.recpot'\n",
        "PP_list = {'Al': file1}"
      ]
    },
    {
      "cell_type": "markdown",
      "metadata": {
        "id": "IU7NCZayE19M"
      },
      "source": [
        "## build the ions or read from file"
      ]
    },
    {
      "cell_type": "code",
      "execution_count": null,
      "metadata": {
        "id": "a3yxPADOE19N"
      },
      "outputs": [],
      "source": [
        "from ase.build import bulk\n",
        "atoms = bulk('Al', 'fcc', a=4.05, cubic=True)\n",
        "ions = Ions.from_ase(atoms)"
      ]
    },
    {
      "cell_type": "markdown",
      "metadata": {
        "id": "pOotd4oPE19N"
      },
      "source": [
        "## make a grid"
      ]
    },
    {
      "cell_type": "code",
      "execution_count": null,
      "metadata": {
        "id": "P6pkg9TQE19O"
      },
      "outputs": [],
      "source": [
        "nr = ecut2nr(ecut=35, lattice=ions.cell)\n",
        "grid = DirectGrid(lattice=ions.cell, nr=nr)\n",
        "sprint('The final grid size is ', nr)"
      ]
    },
    {
      "cell_type": "markdown",
      "metadata": {
        "id": "3yC7aTesE19P"
      },
      "source": [
        "##  build local pseudo, and generate guess density"
      ]
    },
    {
      "cell_type": "code",
      "execution_count": null,
      "metadata": {
        "id": "nvq7tdudE19P"
      },
      "outputs": [],
      "source": [
        "PSEUDO = LocalPseudo(grid = grid, ions=ions, PP_list=PP_list)\n",
        "\n",
        "rho_ini = DirectField(grid=grid)\n",
        "rho_ini[:] = ions.get_ncharges()/ions.cell.volume"
      ]
    },
    {
      "cell_type": "markdown",
      "metadata": {
        "id": "-VlYiQCAE19P"
      },
      "source": [
        "## instance KEDF, XC and HARTREE functionals"
      ]
    },
    {
      "cell_type": "code",
      "execution_count": null,
      "metadata": {
        "id": "iXhhdQ3bE19Q"
      },
      "outputs": [],
      "source": [
        "KE = Functional(type='KEDF',name='TFvW')\n",
        "XC = Functional(type='XC',name='LDA')\n",
        "HARTREE = Functional(type='HARTREE')"
      ]
    },
    {
      "cell_type": "markdown",
      "metadata": {
        "id": "RNamJ9YxE19Q"
      },
      "source": [
        "## instance DFTpy evaluator"
      ]
    },
    {
      "cell_type": "code",
      "execution_count": null,
      "metadata": {
        "id": "nbFjYGLdE19Q"
      },
      "outputs": [],
      "source": [
        "evaluator = TotalFunctional(KE=KE, XC=XC, HARTREE=HARTREE, PSEUDO=PSEUDO)"
      ]
    },
    {
      "cell_type": "markdown",
      "metadata": {
        "id": "svW1GOcoE19Q"
      },
      "source": [
        "## instance and execute DFTpy density optimizer"
      ]
    },
    {
      "cell_type": "code",
      "execution_count": null,
      "metadata": {
        "id": "lC9jYv-3E19R"
      },
      "outputs": [],
      "source": [
        "optimization_options = {'econv' : 1e-6*ions.nat}\n",
        "opt = Optimization(EnergyEvaluator=evaluator, optimization_options = optimization_options,\n",
        "        optimization_method = 'TN')\n",
        "\n",
        "rho = opt.optimize_rho(guess_rho=rho_ini)"
      ]
    },
    {
      "cell_type": "markdown",
      "metadata": {
        "id": "pwaNEG3XE19R"
      },
      "source": [
        "## evaluate final energy"
      ]
    },
    {
      "cell_type": "code",
      "execution_count": null,
      "metadata": {
        "id": "sD80KOqSE19R"
      },
      "outputs": [],
      "source": [
        "energy = evaluator.Energy(rho=rho, ions=ions)\n",
        "print('Energy (a.u.)', energy)"
      ]
    },
    {
      "cell_type": "markdown",
      "metadata": {
        "id": "c-vtRjDvE19S"
      },
      "source": [
        "##  print the timing"
      ]
    },
    {
      "cell_type": "code",
      "execution_count": null,
      "metadata": {
        "id": "jjrvJHh0E19S"
      },
      "outputs": [],
      "source": [
        "TimeData.output(lprint=True, sort='cost')"
      ]
    },
    {
      "cell_type": "markdown",
      "metadata": {
        "id": "11wzv8_wE19S"
      },
      "source": [
        "## Visualize with scikit-image and matplotlib"
      ]
    },
    {
      "cell_type": "code",
      "source": [
        "!pip install scikit-image matplotlib"
      ],
      "metadata": {
        "id": "28USCRPgE19S"
      },
      "execution_count": null,
      "outputs": []
    },
    {
      "cell_type": "code",
      "execution_count": null,
      "metadata": {
        "id": "p_2xbT8BE19T"
      },
      "outputs": [],
      "source": [
        "from dftpy.visualize import view"
      ]
    },
    {
      "cell_type": "code",
      "execution_count": null,
      "metadata": {
        "id": "JYWI_OA4E19T"
      },
      "outputs": [],
      "source": [
        "%matplotlib notebook\n",
        "view(data=rho)"
      ]
    },
    {
      "cell_type": "code",
      "execution_count": null,
      "metadata": {
        "id": "x37Gc2sBE19T"
      },
      "outputs": [],
      "source": [
        "%matplotlib notebook\n",
        "view(ions=ions)"
      ]
    }
  ],
  "metadata": {
    "kernelspec": {
      "display_name": "Python 3 (ipykernel)",
      "language": "python",
      "name": "python3"
    },
    "language_info": {
      "codemirror_mode": {
        "name": "ipython",
        "version": 3
      },
      "file_extension": ".py",
      "mimetype": "text/x-python",
      "name": "python",
      "nbconvert_exporter": "python",
      "pygments_lexer": "ipython3",
      "version": "3.8.10"
    },
    "colab": {
      "name": "dftpy.ipynb",
      "provenance": [],
      "collapsed_sections": [],
      "include_colab_link": true
    }
  },
  "nbformat": 4,
  "nbformat_minor": 0
}