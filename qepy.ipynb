{
 "cells": [
  {
   "cell_type": "code",
   "execution_count": null,
   "metadata": {
    "id": "1PNPJIFyutM1"
   },
   "outputs": [],
   "source": [
    "!sudo apt-get update"
   ]
  },
  {
   "cell_type": "code",
   "execution_count": null,
   "metadata": {
    "id": "25V7P-HRuw6y"
   },
   "outputs": [],
   "source": [
    "!sudo apt-get install --upgrade gcc gfortran libblas-dev liblapack-dev libopenmpi-dev libfftw3-dev"
   ]
  },
  {
   "cell_type": "code",
   "execution_count": null,
   "metadata": {
    "id": "9aUWvehCu8cn"
   },
   "outputs": [],
   "source": [
    "!wget https://gitlab.com/QEF/q-e/-/archive/qe-6.5/q-e-qe-6.5.tar.gz"
   ]
  },
  {
   "cell_type": "code",
   "execution_count": null,
   "metadata": {
    "id": "tt4_sV7RvHzc"
   },
   "outputs": [],
   "source": [
    "!tar -xzvf q-e-qe-6.5.tar.gz"
   ]
  },
  {
   "cell_type": "code",
   "execution_count": null,
   "metadata": {
    "id": "BmaVtQePvLqt"
   },
   "outputs": [],
   "source": [
    "!cd q-e-qe-6.5; ./configure CFLAGS=-fPIC FFLAGS=-fPIC try_foxflags=-fPIC MPIF90=mpif90 --with-scalapack=no BLAS_LIBS='-lblas' LAPACK_LIBS='-llapack' "
   ]
  },
  {
   "cell_type": "code",
   "execution_count": null,
   "metadata": {
    "id": "XjxW3MmywJRE"
   },
   "outputs": [],
   "source": [
    "!cd q-e-qe-6.5; make pw"
   ]
  },
  {
   "cell_type": "code",
   "execution_count": null,
   "metadata": {
    "id": "V_kfXQDfvVbJ"
   },
   "outputs": [],
   "source": [
    "!sudo apt-get install patchelf"
   ]
  },
  {
   "cell_type": "code",
   "execution_count": null,
   "metadata": {
    "id": "MalmAafCxlkM"
   },
   "outputs": [],
   "source": [
    "!prefix=\"/usr/lib/x86_64-linux-gnu/openmpi\"; for filename in $(ls $prefix/lib/openmpi/*.so); do patchelf --add-needed libmpi.so.20 $filename; patchelf --set-rpath \"\\$ORIGIN/..\" $filename; done"
   ]
  },
  {
   "cell_type": "code",
   "execution_count": null,
   "metadata": {
    "id": "sQmBjzKcx0Vo"
   },
   "outputs": [],
   "source": [
    "!git clone --recurse-submodules https://gitlab.com/shaoxc/qepy.git"
   ]
  },
  {
   "cell_type": "code",
   "execution_count": null,
   "metadata": {
    "id": "GJX-5S6wx4yN"
   },
   "outputs": [],
   "source": [
    "!qedir=/content/q-e-qe-6.5/ python -m pip install -U ./qepy"
   ]
  },
  {
   "cell_type": "code",
   "execution_count": null,
   "metadata": {
    "id": "ryGodcxsx-Xk"
   },
   "outputs": [],
   "source": [
    "!cp qepy/examples/scf/qe_in.in ."
   ]
  },
  {
   "cell_type": "code",
   "execution_count": null,
   "metadata": {
    "id": "yAzZSgnDyik4"
   },
   "outputs": [],
   "source": [
    "!cp qepy/examples/scf/Al_ONCV_PBE-1.2.upf ."
   ]
  },
  {
   "cell_type": "code",
   "execution_count": null,
   "metadata": {
    "id": "7IbnZgHoysEY"
   },
   "outputs": [],
   "source": [
    "from qepy.driver import Driver"
   ]
  },
  {
   "cell_type": "code",
   "execution_count": null,
   "metadata": {
    "id": "kOuJImZlywdB"
   },
   "outputs": [],
   "source": [
    "driver=Driver('qe_in.in', logfile=True)"
   ]
  },
  {
   "cell_type": "code",
   "execution_count": null,
   "metadata": {
    "id": "s0erJtZHyzVq"
   },
   "outputs": [],
   "source": [
    "driver.scf()"
   ]
  },
  {
   "cell_type": "code",
   "execution_count": null,
   "metadata": {
    "id": "dowc8pCMy2ca"
   },
   "outputs": [],
   "source": [
    "driver.get_output()"
   ]
  },
  {
   "cell_type": "code",
   "execution_count": null,
   "metadata": {
    "id": "w3dus6YMy6sS"
   },
   "outputs": [],
   "source": [
    "driver.stop()"
   ]
  }
 ],
 "metadata": {
  "colab": {
   "authorship_tag": "ABX9TyNeb0cDdf+J0FK5Aaj1eeyN",
   "collapsed_sections": [],
   "include_colab_link": true,
   "name": "qepy.ipynb",
   "provenance": []
  },
  "kernelspec": {
   "display_name": "Python 3 (ipykernel)",
   "language": "python",
   "name": "python3"
  },
  "language_info": {
   "codemirror_mode": {
    "name": "ipython",
    "version": 3
   },
   "file_extension": ".py",
   "mimetype": "text/x-python",
   "name": "python",
   "nbconvert_exporter": "python",
   "pygments_lexer": "ipython3",
   "version": "3.10.4"
  }
 },
 "nbformat": 4,
 "nbformat_minor": 1
}
