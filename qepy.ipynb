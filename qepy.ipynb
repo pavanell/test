{
  "nbformat": 4,
  "nbformat_minor": 0,
  "metadata": {
    "colab": {
      "name": "qepy.ipynb",
      "provenance": [],
      "collapsed_sections": [],
      "authorship_tag": "ABX9TyNeb0cDdf+J0FK5Aaj1eeyN",
      "include_colab_link": true
    },
    "kernelspec": {
      "name": "python3",
      "display_name": "Python 3"
    },
    "language_info": {
      "name": "python"
    }
  },
  "cells": [
    {
      "cell_type": "markdown",
      "metadata": {
        "id": "view-in-github",
        "colab_type": "text"
      },
      "source": [
        "<a href=\"https://colab.research.google.com/github/pavanell/test/blob/main/qepy.ipynb\" target=\"_parent\"><img src=\"https://colab.research.google.com/assets/colab-badge.svg\" alt=\"Open In Colab\"/></a>"
      ]
    },
    {
      "cell_type": "code",
      "execution_count": null,
      "metadata": {
        "id": "1PNPJIFyutM1"
      },
      "outputs": [],
      "source": [
        "!sudo apt-get update"
      ]
    },
    {
      "cell_type": "code",
      "source": [
        "!sudo apt-get install --upgrade gcc gfortran libblas-dev liblapack-dev libopenmpi-dev libfftw3-dev"
      ],
      "metadata": {
        "id": "25V7P-HRuw6y"
      },
      "execution_count": null,
      "outputs": []
    },
    {
      "cell_type": "code",
      "source": [
        "!wget https://gitlab.com/QEF/q-e/-/archive/qe-6.5/q-e-qe-6.5.tar.gz"
      ],
      "metadata": {
        "id": "9aUWvehCu8cn"
      },
      "execution_count": null,
      "outputs": []
    },
    {
      "cell_type": "code",
      "source": [
        "!tar -xzvf q-e-qe-6.5.tar.gz"
      ],
      "metadata": {
        "id": "tt4_sV7RvHzc"
      },
      "execution_count": null,
      "outputs": []
    },
    {
      "cell_type": "code",
      "source": [
        "!cd q-e-qe-6.5; ./configure CFLAGS=-fPIC FFLAGS=-fPIC try_foxflags=-fPIC MPIF90=mpif90 --with-scalapack=no BLAS_LIBS='-lblas' LAPACK_LIBS='-llapack' "
      ],
      "metadata": {
        "id": "BmaVtQePvLqt"
      },
      "execution_count": null,
      "outputs": []
    },
    {
      "cell_type": "code",
      "source": [
        "!cd q-e-qe-6.5; make pw"
      ],
      "metadata": {
        "id": "XjxW3MmywJRE"
      },
      "execution_count": null,
      "outputs": []
    },
    {
      "cell_type": "code",
      "source": [
        "!sudo apt-get install patchelf"
      ],
      "metadata": {
        "id": "V_kfXQDfvVbJ"
      },
      "execution_count": null,
      "outputs": []
    },
    {
      "cell_type": "code",
      "source": [
        "!prefix=\"/usr/lib/x86_64-linux-gnu/openmpi\"; for filename in $(ls $prefix/lib/openmpi/*.so); do patchelf --add-needed libmpi.so.20 $filename; patchelf --set-rpath \"\\$ORIGIN/..\" $filename; done"
      ],
      "metadata": {
        "id": "MalmAafCxlkM"
      },
      "execution_count": null,
      "outputs": []
    },
    {
      "cell_type": "code",
      "source": [
        "!git clone --recurse-submodules https://gitlab.com/shaoxc/qepy.git"
      ],
      "metadata": {
        "id": "sQmBjzKcx0Vo"
      },
      "execution_count": null,
      "outputs": []
    },
    {
      "cell_type": "code",
      "source": [
        "!qedir=/content/q-e-qe-6.5/ python -m pip install -U ./qepy"
      ],
      "metadata": {
        "id": "GJX-5S6wx4yN"
      },
      "execution_count": null,
      "outputs": []
    },
    {
      "cell_type": "code",
      "source": [
        "!cp qepy/examples/scf/qe_in.in ."
      ],
      "metadata": {
        "id": "ryGodcxsx-Xk"
      },
      "execution_count": null,
      "outputs": []
    },
    {
      "cell_type": "code",
      "source": [
        "!cp qepy/examples/scf/Al_ONCV_PBE-1.2.upf ."
      ],
      "metadata": {
        "id": "yAzZSgnDyik4"
      },
      "execution_count": null,
      "outputs": []
    },
    {
      "cell_type": "code",
      "source": [
        "from qepy.driver import Driver"
      ],
      "metadata": {
        "id": "7IbnZgHoysEY"
      },
      "execution_count": null,
      "outputs": []
    },
    {
      "cell_type": "code",
      "source": [
        "driver=Driver('qe_in.in', logfile=True)"
      ],
      "metadata": {
        "id": "kOuJImZlywdB"
      },
      "execution_count": null,
      "outputs": []
    },
    {
      "cell_type": "code",
      "source": [
        "driver.scf()"
      ],
      "metadata": {
        "id": "s0erJtZHyzVq"
      },
      "execution_count": null,
      "outputs": []
    },
    {
      "cell_type": "code",
      "source": [
        "driver.get_output()"
      ],
      "metadata": {
        "id": "dowc8pCMy2ca"
      },
      "execution_count": null,
      "outputs": []
    },
    {
      "cell_type": "code",
      "source": [
        "driver.stop()"
      ],
      "metadata": {
        "id": "w3dus6YMy6sS"
      },
      "execution_count": null,
      "outputs": []
    }
  ]
}